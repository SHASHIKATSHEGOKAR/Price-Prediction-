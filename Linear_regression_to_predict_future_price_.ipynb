{
  "nbformat": 4,
  "nbformat_minor": 0,
  "metadata": {
    "colab": {
      "provenance": [],
      "authorship_tag": "ABX9TyMKntjEgwGiKqFrixzT4ym9",
      "include_colab_link": true
    },
    "kernelspec": {
      "name": "python3",
      "display_name": "Python 3"
    },
    "language_info": {
      "name": "python"
    }
  },
  "cells": [
    {
      "cell_type": "markdown",
      "metadata": {
        "id": "view-in-github",
        "colab_type": "text"
      },
      "source": [
        "<a href=\"https://colab.research.google.com/github/SHASHIKATSHEGOKAR/Price-Prediction-/blob/main/Linear_regression_to_predict_future_price_.ipynb\" target=\"_parent\"><img src=\"https://colab.research.google.com/assets/colab-badge.svg\" alt=\"Open In Colab\"/></a>"
      ]
    },
    {
      "cell_type": "code",
      "execution_count": null,
      "metadata": {
        "id": "xbJbh7yCf9ba"
      },
      "outputs": [],
      "source": [
        "import pandas as pd\n",
        "import numpy as np\n",
        "import seaborn as sns\n",
        "import matplotlib.pyplot as plt\n",
        "%matplotlib inline\n",
        "\n",
        "from sklearn import preprocessing, svm\n",
        "from sklearn.model_selection import train_test_split\n",
        "from sklearn.linear_model import LinearRegression\n",
        "from sklearn.metrics import mean_squared_error"
      ]
    },
    {
      "cell_type": "code",
      "source": [
        "df = pd.read_csv('dist_user.csv')\n",
        "print(df)"
      ],
      "metadata": {
        "colab": {
          "base_uri": "https://localhost:8080/"
        },
        "id": "yHRDo56XgMie",
        "outputId": "40410043-b4e3-496d-ab98-eecfc45fa37e"
      },
      "execution_count": null,
      "outputs": [
        {
          "output_type": "stream",
          "name": "stdout",
          "text": [
            "    order_number order_status  ... item_cost                      name\n",
            "0           7272   processing  ...    149.00                sai_shetty\n",
            "1           7263    completed  ...    299.00             vaishnavi_m_r\n",
            "2           7257    cancelled  ...    399.00              iyyappan_s_n\n",
            "3           7254    completed  ...    250.00     shashvat_jayakrishnan\n",
            "4           7251       failed  ...    149.00             rishav_mistry\n",
            "5           6744    completed  ...    399.00            dhruvesh_patel\n",
            "6           6722    completed  ...    379.05            swarali_vaidya\n",
            "7           6565    completed  ...    141.55         yogeshvansh_gupta\n",
            "8           6427    completed  ...    379.05             saurabh_kumar\n",
            "9           4321    cancelled  ...    399.00         avinash_nukapeyyi\n",
            "10          4320    completed  ...    359.10             manogna_matam\n",
            "11          4240    completed  ...    199.00                sumit_bala\n",
            "12          4172    cancelled  ...    399.00              nazia_kamboj\n",
            "13          4068    completed  ...    299.00             dinesh_prabhu\n",
            "14          4067    completed  ...    499.00            porrun_solanki\n",
            "15          4066    completed  ...    399.00            ashish_agrawal\n",
            "16          4065       failed  ...    199.00            shriya_malladi\n",
            "17          4064    completed  ...    399.00                  deepak_p\n",
            "18          4063    cancelled  ...    199.00               himu_sharma\n",
            "19          4062    completed  ...    399.00            prakriti_rashi\n",
            "20          4060    completed  ...    199.00              tiyasha_khan\n",
            "21          4059    cancelled  ...    149.00          rohan_basumatary\n",
            "22          4058    cancelled  ...    199.00             radha_bhusari\n",
            "23          4045    completed  ...    399.00            lakshay_rathee\n",
            "24          3156    completed  ...    179.00              suhail_gupta\n",
            "25          3155    cancelled  ...    399.00             abir_majumder\n",
            "26          3154    completed  ...    179.00                  romita_b\n",
            "27          3153    completed  ...    399.00               varad_bhatt\n",
            "28          3152    completed  ...    399.00           chandan_mudkani\n",
            "29          3151    cancelled  ...    399.00     kakoli_bhattacharjyaa\n",
            "30          3141    cancelled  ...    149.00                sohan_sewa\n",
            "31          3140    cancelled  ...    399.00               kenny_ayyar\n",
            "32          3139    cancelled  ...    250.00         shivadooti_mandal\n",
            "33          3138    cancelled  ...    169.00             shreya_sarkar\n",
            "34          3137       failed  ...    399.00           anusha_siddiqui\n",
            "35          3136    cancelled  ...     99.00                 alex_alex\n",
            "36          3135    completed  ...    149.00               arun_sharma\n",
            "37          3134    completed  ...    399.00            viplav_agarwal\n",
            "38          3132    cancelled  ...    400.00               sunny_kasab\n",
            "39          3130    cancelled  ...    400.00  debashree_dhar_chowdhury\n",
            "40          3127    cancelled  ...    800.00               aryan_singh\n",
            "41          3114    cancelled  ...    149.00              ankur_baruri\n",
            "42          3113    cancelled  ...    399.00             spruha_vetcha\n",
            "43          3112    cancelled  ...    199.00               vivek_singh\n",
            "44          3111    completed  ...    199.00                anmol_kaur\n",
            "45          3108    completed  ...    149.00          anannya_moharana\n",
            "46          3107    cancelled  ...    149.00             aayushi_saini\n",
            "47          3106    completed  ...    149.00              ashish_attri\n",
            "48          3043    completed  ...    149.00        vaishali_chaudhary\n",
            "49          3042      on_hold  ...    149.00              tejus_khanna\n",
            "50          3030    completed  ...    299.00            narender_kumar\n",
            "51          3029    cancelled  ...    299.00             devaryan_vaid\n",
            "52          3028    completed  ...     99.00            anushri_suresh\n",
            "53          3004    completed  ...    299.00                  govind_p\n",
            "54          3002    cancelled  ...     99.00               palak_arora\n",
            "55          1203    cancelled  ...    399.00            dakshay_singla\n",
            "\n",
            "[56 rows x 24 columns]\n"
          ]
        }
      ]
    },
    {
      "cell_type": "code",
      "source": [
        "df.head()"
      ],
      "metadata": {
        "colab": {
          "base_uri": "https://localhost:8080/",
          "height": 302
        },
        "id": "gSFNw4ioghAs",
        "outputId": "fdec1010-549e-4f88-e184-a81a4f524112"
      },
      "execution_count": null,
      "outputs": [
        {
          "output_type": "execute_result",
          "data": {
            "text/html": [
              "\n",
              "  <div id=\"df-1b2a368e-df5e-45d1-af33-70d4bd865f84\">\n",
              "    <div class=\"colab-df-container\">\n",
              "      <div>\n",
              "<style scoped>\n",
              "    .dataframe tbody tr th:only-of-type {\n",
              "        vertical-align: middle;\n",
              "    }\n",
              "\n",
              "    .dataframe tbody tr th {\n",
              "        vertical-align: top;\n",
              "    }\n",
              "\n",
              "    .dataframe thead th {\n",
              "        text-align: right;\n",
              "    }\n",
              "</style>\n",
              "<table border=\"1\" class=\"dataframe\">\n",
              "  <thead>\n",
              "    <tr style=\"text-align: right;\">\n",
              "      <th></th>\n",
              "      <th>order_number</th>\n",
              "      <th>order_status</th>\n",
              "      <th>order_date</th>\n",
              "      <th>customer_note</th>\n",
              "      <th>company_(billing)</th>\n",
              "      <th>address_1&amp;2_(billing)</th>\n",
              "      <th>city_(billing)</th>\n",
              "      <th>state_code_(billing)</th>\n",
              "      <th>postcode_(billing)</th>\n",
              "      <th>country_code_(billing)</th>\n",
              "      <th>email_(billing)</th>\n",
              "      <th>phone_(billing)</th>\n",
              "      <th>payment_method_title</th>\n",
              "      <th>cart_discount_amount</th>\n",
              "      <th>order_subtotal_amount</th>\n",
              "      <th>order_shipping_amount</th>\n",
              "      <th>order_total_amount</th>\n",
              "      <th>order_total_tax_amount</th>\n",
              "      <th>sku</th>\n",
              "      <th>item_#</th>\n",
              "      <th>item_name</th>\n",
              "      <th>quantity</th>\n",
              "      <th>item_cost</th>\n",
              "      <th>name</th>\n",
              "    </tr>\n",
              "  </thead>\n",
              "  <tbody>\n",
              "    <tr>\n",
              "      <th>0</th>\n",
              "      <td>7272</td>\n",
              "      <td>processing</td>\n",
              "      <td>september_19,_2021_02:12</td>\n",
              "      <td>i_hope_the_size_is_large.</td>\n",
              "      <td>NaN</td>\n",
              "      <td>1-37_raghavendra_nagar_colony_uppal,_near_spar...</td>\n",
              "      <td>hyderabad</td>\n",
              "      <td>ts</td>\n",
              "      <td>500039</td>\n",
              "      <td>in</td>\n",
              "      <td>saicharanpulligadda@gmail.com</td>\n",
              "      <td>8328231217</td>\n",
              "      <td>credit_card/debit_card/netbanking</td>\n",
              "      <td>0.0</td>\n",
              "      <td>298</td>\n",
              "      <td>0</td>\n",
              "      <td>298.0</td>\n",
              "      <td>0</td>\n",
              "      <td>2606.0</td>\n",
              "      <td>1</td>\n",
              "      <td>lgbt_cloud_mask</td>\n",
              "      <td>1</td>\n",
              "      <td>149.0</td>\n",
              "      <td>sai_shetty</td>\n",
              "    </tr>\n",
              "    <tr>\n",
              "      <th>1</th>\n",
              "      <td>7263</td>\n",
              "      <td>completed</td>\n",
              "      <td>august_17,_2021_21:28</td>\n",
              "      <td>NaN</td>\n",
              "      <td>NaN</td>\n",
              "      <td>s-2,_244,_vaishnavi_lake_view_apartment,_8th_m...</td>\n",
              "      <td>bangalore</td>\n",
              "      <td>ka</td>\n",
              "      <td>560097</td>\n",
              "      <td>in</td>\n",
              "      <td>vaishnavimudliar99@gmail.com</td>\n",
              "      <td>8152083270</td>\n",
              "      <td>credit_card/debit_card/netbanking</td>\n",
              "      <td>0.0</td>\n",
              "      <td>299</td>\n",
              "      <td>0</td>\n",
              "      <td>299.0</td>\n",
              "      <td>0</td>\n",
              "      <td>305.0</td>\n",
              "      <td>1</td>\n",
              "      <td>safe_mask</td>\n",
              "      <td>1</td>\n",
              "      <td>299.0</td>\n",
              "      <td>vaishnavi_m_r</td>\n",
              "    </tr>\n",
              "    <tr>\n",
              "      <th>2</th>\n",
              "      <td>7257</td>\n",
              "      <td>cancelled</td>\n",
              "      <td>august_14,_2021_22:15</td>\n",
              "      <td>NaN</td>\n",
              "      <td>NaN</td>\n",
              "      <td>vibhu_pg_for_gents,_begur_road,_garebhavipalya</td>\n",
              "      <td>bangalore</td>\n",
              "      <td>ka</td>\n",
              "      <td>560068</td>\n",
              "      <td>in</td>\n",
              "      <td>iyyappan1112sn@gmail.com</td>\n",
              "      <td>8088399032</td>\n",
              "      <td>credit_card/debit_card/netbanking</td>\n",
              "      <td>0.0</td>\n",
              "      <td>399</td>\n",
              "      <td>0</td>\n",
              "      <td>399.0</td>\n",
              "      <td>0</td>\n",
              "      <td>4551.0</td>\n",
              "      <td>1</td>\n",
              "      <td>lets_get_better_together_tshirt</td>\n",
              "      <td>1</td>\n",
              "      <td>399.0</td>\n",
              "      <td>iyyappan_s_n</td>\n",
              "    </tr>\n",
              "    <tr>\n",
              "      <th>3</th>\n",
              "      <td>7254</td>\n",
              "      <td>completed</td>\n",
              "      <td>august_13,_2021_22:19</td>\n",
              "      <td>hoodie_size_=_xxl/2xl</td>\n",
              "      <td>NaN</td>\n",
              "      <td>a-303,_eves_garden_society,_baner_road,_baner</td>\n",
              "      <td>pune</td>\n",
              "      <td>mh</td>\n",
              "      <td>411045</td>\n",
              "      <td>in</td>\n",
              "      <td>kumarshyam2499@gmail.com</td>\n",
              "      <td>8667780342</td>\n",
              "      <td>credit_card/debit_card/netbanking</td>\n",
              "      <td>0.0</td>\n",
              "      <td>1397</td>\n",
              "      <td>0</td>\n",
              "      <td>1397.0</td>\n",
              "      <td>0</td>\n",
              "      <td>7095.0</td>\n",
              "      <td>1</td>\n",
              "      <td>small_flag</td>\n",
              "      <td>1</td>\n",
              "      <td>250.0</td>\n",
              "      <td>shashvat_jayakrishnan</td>\n",
              "    </tr>\n",
              "    <tr>\n",
              "      <th>4</th>\n",
              "      <td>7251</td>\n",
              "      <td>failed</td>\n",
              "      <td>august_10,_2021_02:06</td>\n",
              "      <td>NaN</td>\n",
              "      <td>NaN</td>\n",
              "      <td>15/3_sanat_villa,_r.n._tagore_road,_nabapally,...</td>\n",
              "      <td>kolkata</td>\n",
              "      <td>wb</td>\n",
              "      <td>700063</td>\n",
              "      <td>in</td>\n",
              "      <td>rishavmistry@gmail.com</td>\n",
              "      <td>8334967083</td>\n",
              "      <td>credit_card/debit_card/netbanking</td>\n",
              "      <td>0.0</td>\n",
              "      <td>149</td>\n",
              "      <td>0</td>\n",
              "      <td>149.0</td>\n",
              "      <td>0</td>\n",
              "      <td>2666.0</td>\n",
              "      <td>1</td>\n",
              "      <td>lgbt_drink_pride_mask</td>\n",
              "      <td>1</td>\n",
              "      <td>149.0</td>\n",
              "      <td>rishav_mistry</td>\n",
              "    </tr>\n",
              "  </tbody>\n",
              "</table>\n",
              "</div>\n",
              "      <button class=\"colab-df-convert\" onclick=\"convertToInteractive('df-1b2a368e-df5e-45d1-af33-70d4bd865f84')\"\n",
              "              title=\"Convert this dataframe to an interactive table.\"\n",
              "              style=\"display:none;\">\n",
              "        \n",
              "  <svg xmlns=\"http://www.w3.org/2000/svg\" height=\"24px\"viewBox=\"0 0 24 24\"\n",
              "       width=\"24px\">\n",
              "    <path d=\"M0 0h24v24H0V0z\" fill=\"none\"/>\n",
              "    <path d=\"M18.56 5.44l.94 2.06.94-2.06 2.06-.94-2.06-.94-.94-2.06-.94 2.06-2.06.94zm-11 1L8.5 8.5l.94-2.06 2.06-.94-2.06-.94L8.5 2.5l-.94 2.06-2.06.94zm10 10l.94 2.06.94-2.06 2.06-.94-2.06-.94-.94-2.06-.94 2.06-2.06.94z\"/><path d=\"M17.41 7.96l-1.37-1.37c-.4-.4-.92-.59-1.43-.59-.52 0-1.04.2-1.43.59L10.3 9.45l-7.72 7.72c-.78.78-.78 2.05 0 2.83L4 21.41c.39.39.9.59 1.41.59.51 0 1.02-.2 1.41-.59l7.78-7.78 2.81-2.81c.8-.78.8-2.07 0-2.86zM5.41 20L4 18.59l7.72-7.72 1.47 1.35L5.41 20z\"/>\n",
              "  </svg>\n",
              "      </button>\n",
              "      \n",
              "  <style>\n",
              "    .colab-df-container {\n",
              "      display:flex;\n",
              "      flex-wrap:wrap;\n",
              "      gap: 12px;\n",
              "    }\n",
              "\n",
              "    .colab-df-convert {\n",
              "      background-color: #E8F0FE;\n",
              "      border: none;\n",
              "      border-radius: 50%;\n",
              "      cursor: pointer;\n",
              "      display: none;\n",
              "      fill: #1967D2;\n",
              "      height: 32px;\n",
              "      padding: 0 0 0 0;\n",
              "      width: 32px;\n",
              "    }\n",
              "\n",
              "    .colab-df-convert:hover {\n",
              "      background-color: #E2EBFA;\n",
              "      box-shadow: 0px 1px 2px rgba(60, 64, 67, 0.3), 0px 1px 3px 1px rgba(60, 64, 67, 0.15);\n",
              "      fill: #174EA6;\n",
              "    }\n",
              "\n",
              "    [theme=dark] .colab-df-convert {\n",
              "      background-color: #3B4455;\n",
              "      fill: #D2E3FC;\n",
              "    }\n",
              "\n",
              "    [theme=dark] .colab-df-convert:hover {\n",
              "      background-color: #434B5C;\n",
              "      box-shadow: 0px 1px 3px 1px rgba(0, 0, 0, 0.15);\n",
              "      filter: drop-shadow(0px 1px 2px rgba(0, 0, 0, 0.3));\n",
              "      fill: #FFFFFF;\n",
              "    }\n",
              "  </style>\n",
              "\n",
              "      <script>\n",
              "        const buttonEl =\n",
              "          document.querySelector('#df-1b2a368e-df5e-45d1-af33-70d4bd865f84 button.colab-df-convert');\n",
              "        buttonEl.style.display =\n",
              "          google.colab.kernel.accessAllowed ? 'block' : 'none';\n",
              "\n",
              "        async function convertToInteractive(key) {\n",
              "          const element = document.querySelector('#df-1b2a368e-df5e-45d1-af33-70d4bd865f84');\n",
              "          const dataTable =\n",
              "            await google.colab.kernel.invokeFunction('convertToInteractive',\n",
              "                                                     [key], {});\n",
              "          if (!dataTable) return;\n",
              "\n",
              "          const docLinkHtml = 'Like what you see? Visit the ' +\n",
              "            '<a target=\"_blank\" href=https://colab.research.google.com/notebooks/data_table.ipynb>data table notebook</a>'\n",
              "            + ' to learn more about interactive tables.';\n",
              "          element.innerHTML = '';\n",
              "          dataTable['output_type'] = 'display_data';\n",
              "          await google.colab.output.renderOutput(dataTable, element);\n",
              "          const docLink = document.createElement('div');\n",
              "          docLink.innerHTML = docLinkHtml;\n",
              "          element.appendChild(docLink);\n",
              "        }\n",
              "      </script>\n",
              "    </div>\n",
              "  </div>\n",
              "  "
            ],
            "text/plain": [
              "   order_number order_status  ... item_cost                   name\n",
              "0          7272   processing  ...     149.0             sai_shetty\n",
              "1          7263    completed  ...     299.0          vaishnavi_m_r\n",
              "2          7257    cancelled  ...     399.0           iyyappan_s_n\n",
              "3          7254    completed  ...     250.0  shashvat_jayakrishnan\n",
              "4          7251       failed  ...     149.0          rishav_mistry\n",
              "\n",
              "[5 rows x 24 columns]"
            ]
          },
          "metadata": {},
          "execution_count": 6
        }
      ]
    },
    {
      "cell_type": "code",
      "source": [
        "print(df.describe())"
      ],
      "metadata": {
        "colab": {
          "base_uri": "https://localhost:8080/"
        },
        "id": "JNsbihtKgO3w",
        "outputId": "fff7486d-ffa0-4dba-8b56-67909dddc637"
      },
      "execution_count": null,
      "outputs": [
        {
          "output_type": "stream",
          "name": "stdout",
          "text": [
            "       order_number  postcode_(billing)  ...   quantity   item_cost\n",
            "count     56.000000           56.000000  ...  56.000000   56.000000\n",
            "mean    3965.125000       462022.107143  ...   1.017857  285.566964\n",
            "std     1435.480041       223349.183482  ...   0.133631  134.874926\n",
            "min     1203.000000       110001.000000  ...   1.000000   99.000000\n",
            "25%     3113.750000       345903.250000  ...   1.000000  149.000000\n",
            "50%     3152.500000       457904.000000  ...   1.000000  299.000000\n",
            "75%     4067.250000       696274.000000  ...   1.000000  399.000000\n",
            "max     7272.000000       841226.000000  ...   2.000000  800.000000\n",
            "\n",
            "[8 rows x 11 columns]\n"
          ]
        }
      ]
    },
    {
      "cell_type": "code",
      "source": [
        "df.shape"
      ],
      "metadata": {
        "colab": {
          "base_uri": "https://localhost:8080/"
        },
        "id": "rps2OBVGgWVq",
        "outputId": "99cdb4e5-93ce-471e-f8cb-9d8ba539e6d9"
      },
      "execution_count": null,
      "outputs": [
        {
          "output_type": "execute_result",
          "data": {
            "text/plain": [
              "(56, 24)"
            ]
          },
          "metadata": {},
          "execution_count": 5
        }
      ]
    },
    {
      "cell_type": "code",
      "source": [
        "df['order_total_amount'].describe()"
      ],
      "metadata": {
        "colab": {
          "base_uri": "https://localhost:8080/"
        },
        "id": "TX-fplx5gSWv",
        "outputId": "ebd26fa7-3590-418b-b31e-b0aa90a298c4"
      },
      "execution_count": null,
      "outputs": [
        {
          "output_type": "execute_result",
          "data": {
            "text/plain": [
              "count      56.000000\n",
              "mean      403.533929\n",
              "std       293.294943\n",
              "min        99.000000\n",
              "25%       198.750000\n",
              "50%       399.000000\n",
              "75%       404.750000\n",
              "max      1397.000000\n",
              "Name: order_total_amount, dtype: float64"
            ]
          },
          "metadata": {},
          "execution_count": 4
        }
      ]
    },
    {
      "cell_type": "code",
      "source": [
        "df.plot(x='item_cost', y='order_total_amount', style='o')\n",
        "plt.title('order_total vs order_total')\n",
        "plt.xlabel('item_cost')\n",
        "plt.ylabel('order_total_amount')\n",
        "plt.show()"
      ],
      "metadata": {
        "colab": {
          "base_uri": "https://localhost:8080/",
          "height": 296
        },
        "id": "oW_n8piYgbb5",
        "outputId": "6d3f2d1c-084a-4189-dda3-551772ffdf52"
      },
      "execution_count": null,
      "outputs": [
        {
          "output_type": "display_data",
          "data": {
            "image/png": "[encoded data removed]",
            "text/plain": [
              "<Figure size 432x288 with 1 Axes>"
            ]
          },
          "metadata": {
            "needs_background": "light"
          }
        }
      ]
    },
    {
      "cell_type": "code",
      "source": [
        "plt.figure(figsize=(15,10))\n",
        "plt.tight_layout()\n",
        "sns.distplot(df['item_cost'])"
      ],
      "metadata": {
        "colab": {
          "base_uri": "https://localhost:8080/",
          "height": 677
        },
        "id": "iRAF75PPgqhq",
        "outputId": "2e436f0d-482f-4899-f91a-fbb1090d0946"
      },
      "execution_count": null,
      "outputs": [
        {
          "output_type": "stream",
          "name": "stderr",
          "text": [
            "/usr/local/lib/python3.7/dist-packages/seaborn/distributions.py:2619: FutureWarning: `distplot` is a deprecated function and will be removed in a future version. Please adapt your code to use either `displot` (a figure-level function with similar flexibility) or `histplot` (an axes-level function for histograms).\n",
            "  warnings.warn(msg, FutureWarning)\n"
          ]
        },
        {
          "output_type": "execute_result",
          "data": {
            "text/plain": [
              "<matplotlib.axes._subplots.AxesSubplot at 0x7fd28789d890>"
            ]
          },
          "metadata": {},
          "execution_count": 8
        },
        {
          "output_type": "display_data",
          "data": {
            "image/png": "[encoded data removed]",
            "text/plain": [
              "<Figure size 1080x720 with 1 Axes>"
            ]
          },
          "metadata": {
            "needs_background": "light"
          }
        }
      ]
    },
    {
      "cell_type": "code",
      "source": [
        "X = df['item_cost'].values.reshape(-1,1)\n",
        "y = df['order_total_amount'].values.reshape(-1,1)"
      ],
      "metadata": {
        "id": "Wf84dKF1gwGt"
      },
      "execution_count": null,
      "outputs": []
    },
    {
      "cell_type": "code",
      "source": [
        "X_train, X_test, y_train, y_test = train_test_split(X, y, test_size=0.2, random_state=0)"
      ],
      "metadata": {
        "id": "C_v8FY4Qg1ij"
      },
      "execution_count": null,
      "outputs": []
    },
    {
      "cell_type": "code",
      "source": [
        "regressor = LinearRegression()\n",
        "regressor.fit(X_train, y_train)"
      ],
      "metadata": {
        "colab": {
          "base_uri": "https://localhost:8080/"
        },
        "id": "gp8uPc11g5_Y",
        "outputId": "160f9ca5-eaa0-4bb1-eac1-a456027dd441"
      },
      "execution_count": null,
      "outputs": [
        {
          "output_type": "execute_result",
          "data": {
            "text/plain": [
              "LinearRegression()"
            ]
          },
          "metadata": {},
          "execution_count": 11
        }
      ]
    },
    {
      "cell_type": "code",
      "source": [
        "print(regressor.intercept_)\n",
        "print(regressor.coef_)"
      ],
      "metadata": {
        "colab": {
          "base_uri": "https://localhost:8080/"
        },
        "id": "uqIGSdo7g9Gb",
        "outputId": "f1176309-67d7-4e2d-953e-d728508bb3b1"
      },
      "execution_count": null,
      "outputs": [
        {
          "output_type": "stream",
          "name": "stdout",
          "text": [
            "[77.60320827]\n",
            "[[1.20110413]]\n"
          ]
        }
      ]
    },
    {
      "cell_type": "code",
      "source": [
        "y_pred = regressor.predict(X_test)"
      ],
      "metadata": {
        "id": "hIhhyPbuhBrV"
      },
      "execution_count": null,
      "outputs": []
    },
    {
      "cell_type": "code",
      "source": [
        "df = pd.DataFrame({'Actual': y_test.flatten(), 'Predicted': y_pred.flatten()})\n",
        "df"
      ],
      "metadata": {
        "id": "SwLXHTOmhEw9",
        "outputId": "089d5019-c982-4a81-9761-e560e9d45b59",
        "colab": {
          "base_uri": "https://localhost:8080/",
          "height": 421
        }
      },
      "execution_count": null,
      "outputs": [
        {
          "output_type": "execute_result",
          "data": {
            "text/html": [
              "\n",
              "  <div id=\"df-6b33e42b-a9c9-4e15-9869-bcf6802d3219\">\n",
              "    <div class=\"colab-df-container\">\n",
              "      <div>\n",
              "<style scoped>\n",
              "    .dataframe tbody tr th:only-of-type {\n",
              "        vertical-align: middle;\n",
              "    }\n",
              "\n",
              "    .dataframe tbody tr th {\n",
              "        vertical-align: top;\n",
              "    }\n",
              "\n",
              "    .dataframe thead th {\n",
              "        text-align: right;\n",
              "    }\n",
              "</style>\n",
              "<table border=\"1\" class=\"dataframe\">\n",
              "  <thead>\n",
              "    <tr style=\"text-align: right;\">\n",
              "      <th></th>\n",
              "      <th>Actual</th>\n",
              "      <th>Predicted</th>\n",
              "    </tr>\n",
              "  </thead>\n",
              "  <tbody>\n",
              "    <tr>\n",
              "      <th>0</th>\n",
              "      <td>149.0</td>\n",
              "      <td>256.567723</td>\n",
              "    </tr>\n",
              "    <tr>\n",
              "      <th>1</th>\n",
              "      <td>419.0</td>\n",
              "      <td>280.589806</td>\n",
              "    </tr>\n",
              "    <tr>\n",
              "      <th>2</th>\n",
              "      <td>800.0</td>\n",
              "      <td>1038.486511</td>\n",
              "    </tr>\n",
              "    <tr>\n",
              "      <th>3</th>\n",
              "      <td>179.0</td>\n",
              "      <td>292.600847</td>\n",
              "    </tr>\n",
              "    <tr>\n",
              "      <th>4</th>\n",
              "      <td>199.0</td>\n",
              "      <td>316.622930</td>\n",
              "    </tr>\n",
              "    <tr>\n",
              "      <th>5</th>\n",
              "      <td>399.0</td>\n",
              "      <td>556.843756</td>\n",
              "    </tr>\n",
              "    <tr>\n",
              "      <th>6</th>\n",
              "      <td>250.0</td>\n",
              "      <td>377.879240</td>\n",
              "    </tr>\n",
              "    <tr>\n",
              "      <th>7</th>\n",
              "      <td>199.0</td>\n",
              "      <td>316.622930</td>\n",
              "    </tr>\n",
              "    <tr>\n",
              "      <th>8</th>\n",
              "      <td>149.0</td>\n",
              "      <td>256.567723</td>\n",
              "    </tr>\n",
              "    <tr>\n",
              "      <th>9</th>\n",
              "      <td>149.0</td>\n",
              "      <td>256.567723</td>\n",
              "    </tr>\n",
              "    <tr>\n",
              "      <th>10</th>\n",
              "      <td>149.0</td>\n",
              "      <td>256.567723</td>\n",
              "    </tr>\n",
              "    <tr>\n",
              "      <th>11</th>\n",
              "      <td>718.2</td>\n",
              "      <td>508.919701</td>\n",
              "    </tr>\n",
              "  </tbody>\n",
              "</table>\n",
              "</div>\n",
              "      <button class=\"colab-df-convert\" onclick=\"convertToInteractive('df-6b33e42b-a9c9-4e15-9869-bcf6802d3219')\"\n",
              "              title=\"Convert this dataframe to an interactive table.\"\n",
              "              style=\"display:none;\">\n",
              "        \n",
              "  <svg xmlns=\"http://www.w3.org/2000/svg\" height=\"24px\"viewBox=\"0 0 24 24\"\n",
              "       width=\"24px\">\n",
              "    <path d=\"M0 0h24v24H0V0z\" fill=\"none\"/>\n",
              "    <path d=\"M18.56 5.44l.94 2.06.94-2.06 2.06-.94-2.06-.94-.94-2.06-.94 2.06-2.06.94zm-11 1L8.5 8.5l.94-2.06 2.06-.94-2.06-.94L8.5 2.5l-.94 2.06-2.06.94zm10 10l.94 2.06.94-2.06 2.06-.94-2.06-.94-.94-2.06-.94 2.06-2.06.94z\"/><path d=\"M17.41 7.96l-1.37-1.37c-.4-.4-.92-.59-1.43-.59-.52 0-1.04.2-1.43.59L10.3 9.45l-7.72 7.72c-.78.78-.78 2.05 0 2.83L4 21.41c.39.39.9.59 1.41.59.51 0 1.02-.2 1.41-.59l7.78-7.78 2.81-2.81c.8-.78.8-2.07 0-2.86zM5.41 20L4 18.59l7.72-7.72 1.47 1.35L5.41 20z\"/>\n",
              "  </svg>\n",
              "      </button>\n",
              "      \n",
              "  <style>\n",
              "    .colab-df-container {\n",
              "      display:flex;\n",
              "      flex-wrap:wrap;\n",
              "      gap: 12px;\n",
              "    }\n",
              "\n",
              "    .colab-df-convert {\n",
              "      background-color: #E8F0FE;\n",
              "      border: none;\n",
              "      border-radius: 50%;\n",
              "      cursor: pointer;\n",
              "      display: none;\n",
              "      fill: #1967D2;\n",
              "      height: 32px;\n",
              "      padding: 0 0 0 0;\n",
              "      width: 32px;\n",
              "    }\n",
              "\n",
              "    .colab-df-convert:hover {\n",
              "      background-color: #E2EBFA;\n",
              "      box-shadow: 0px 1px 2px rgba(60, 64, 67, 0.3), 0px 1px 3px 1px rgba(60, 64, 67, 0.15);\n",
              "      fill: #174EA6;\n",
              "    }\n",
              "\n",
              "    [theme=dark] .colab-df-convert {\n",
              "      background-color: #3B4455;\n",
              "      fill: #D2E3FC;\n",
              "    }\n",
              "\n",
              "    [theme=dark] .colab-df-convert:hover {\n",
              "      background-color: #434B5C;\n",
              "      box-shadow: 0px 1px 3px 1px rgba(0, 0, 0, 0.15);\n",
              "      filter: drop-shadow(0px 1px 2px rgba(0, 0, 0, 0.3));\n",
              "      fill: #FFFFFF;\n",
              "    }\n",
              "  </style>\n",
              "\n",
              "      <script>\n",
              "        const buttonEl =\n",
              "          document.querySelector('#df-6b33e42b-a9c9-4e15-9869-bcf6802d3219 button.colab-df-convert');\n",
              "        buttonEl.style.display =\n",
              "          google.colab.kernel.accessAllowed ? 'block' : 'none';\n",
              "\n",
              "        async function convertToInteractive(key) {\n",
              "          const element = document.querySelector('#df-6b33e42b-a9c9-4e15-9869-bcf6802d3219');\n",
              "          const dataTable =\n",
              "            await google.colab.kernel.invokeFunction('convertToInteractive',\n",
              "                                                     [key], {});\n",
              "          if (!dataTable) return;\n",
              "\n",
              "          const docLinkHtml = 'Like what you see? Visit the ' +\n",
              "            '<a target=\"_blank\" href=https://colab.research.google.com/notebooks/data_table.ipynb>data table notebook</a>'\n",
              "            + ' to learn more about interactive tables.';\n",
              "          element.innerHTML = '';\n",
              "          dataTable['output_type'] = 'display_data';\n",
              "          await google.colab.output.renderOutput(dataTable, element);\n",
              "          const docLink = document.createElement('div');\n",
              "          docLink.innerHTML = docLinkHtml;\n",
              "          element.appendChild(docLink);\n",
              "        }\n",
              "      </script>\n",
              "    </div>\n",
              "  </div>\n",
              "  "
            ],
            "text/plain": [
              "    Actual    Predicted\n",
              "0    149.0   256.567723\n",
              "1    419.0   280.589806\n",
              "2    800.0  1038.486511\n",
              "3    179.0   292.600847\n",
              "4    199.0   316.622930\n",
              "5    399.0   556.843756\n",
              "6    250.0   377.879240\n",
              "7    199.0   316.622930\n",
              "8    149.0   256.567723\n",
              "9    149.0   256.567723\n",
              "10   149.0   256.567723\n",
              "11   718.2   508.919701"
            ]
          },
          "metadata": {},
          "execution_count": 14
        }
      ]
    }
  ]
}